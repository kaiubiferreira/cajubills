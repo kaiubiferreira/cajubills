{
 "cells": [
  {
   "cell_type": "code",
   "execution_count": 1,
   "id": "aa5dd4ef",
   "metadata": {},
   "outputs": [],
   "source": [
    "import mysql.connector"
   ]
  },
  {
   "cell_type": "code",
   "execution_count": 2,
   "id": "c44314aa",
   "metadata": {},
   "outputs": [],
   "source": [
    "values = [\n",
    "('VT','buy','2023-09-28','22','93.0293','dolar'),\n",
    "('VT','buy','2023-09-25','21','93.6799','dolar'),\n",
    "('VT','buy','2023-08-30','20','97.935','dolar'),\n",
    "('VT','buy','2023-07-28','23','100.49','dolar'),\n",
    "('NU','buy','2023-07-01','1022','7.96','dolar'),\n",
    "('VT','buy','2023-06-02','106','94.57','dolar'),\n",
    "('AVDV','buy','2023-05-31','115','55.78','dolar'),\n",
    "('NU','sell','2023-05-26','936','6.9','dolar'),\n",
    "('SLYV','buy','2023-04-28','54','74.33','dolar'),\n",
    "('SLYV','buy','2023-04-03','27','75.78','dolar'),\n",
    "('NU','buy','2023-04-01','1022','4.52','dolar'),\n",
    "('VT','buy','2023-02-17','57','92.165','dolar'),\n",
    "('NU','sell','2023-02-15','936','5.385','dolar'),\n",
    "('NU','buy','2023-01-01','814','3.56','dolar'),\n",
    "('VT','buy','2022-11-16','60','88.265','dolar'),\n",
    "('NU','sell','2022-11-15','1030','5.05','dolar'),\n",
    "('NU','buy','2022-10-01','814','4.73','dolar'),\n",
    "('VT','buy','2022-09-12','8','90.55','dolar'),\n",
    "('VT','buy','2022-09-02','23','86.425','dolar'),\n",
    "('VT','buy','2022-08-23','12','91','dolar'),\n",
    "('VT','buy','2022-08-18','12','93.66','dolar'),\n",
    "('NU','sell','2022-08-16','204','5.32','dolar'),\n",
    "('VT','buy','2022-08-01','22','90.95','dolar'),\n",
    "('NU','buy','2022-07-01','814','3.91','dolar'),\n",
    "('NU','buy','2022-05-31','1030','3.875','dolar'),\n",
    "('VT','buy','2022-05-25','231','90.828','dolar'),\n",
    "('BCFF11.SA','sell','2022-05-23','413','65.83','real'),\n",
    "('BCFF11.SA','sell','2022-05-23','18','65.82','real'),\n",
    "('BCFF11.SA','sell','2022-05-23','41','65.85','real'),\n",
    "('BCFF11.SA','sell','2022-05-23','36','65.84','real'),\n",
    "('BOVA11.SA','sell','2022-05-23','215','106.36','real'),\n",
    "('CPTS11.SA','sell','2022-05-23','109','93.44','real'),\n",
    "('IVVB11.SA','sell','2022-05-23','148','208.17','real'),\n",
    "('IVVB11.SA','sell','2022-05-23','27','208.18','real'),\n",
    "('IVVB11.SA','sell','2022-05-23','60','208.1','real'),\n",
    "('XINA11.SA','sell','2022-05-23','780','5.82','real'),\n",
    "('XINA11.SA','sell','2022-05-23','270','5.81','real'),\n",
    "('VT','buy','2022-05-20','2','88.6','dolar'),\n",
    "('NU','buy','2022-04-01','814','8.06','dolar'),\n",
    "('CPTS11.SA','buy','2022-04-01','109','95','real'),\n",
    "('IVVB11.SA','buy','2022-03-04','43','239.72','real'),\n",
    "('IVVB11.SA','buy','2022-01-28','32','254.26','real'),\n",
    "('NU','buy','2022-01-01','632','9.98','dolar'),\n",
    "('XINA11.SA','buy','2021-12-23','1050','8.63','real'),\n",
    "('XINA11.SA','sell','2021-11-22','1100','9.28','real'),\n",
    "('BCFF11.SA','buy','2021-11-04','33','68.69','real'),\n",
    "('BCFF11.SA','buy','2021-11-04','7','68.68','real'),\n",
    "('BOVA11.SA','buy','2021-11-04','24','100.46','real'),\n",
    "('BCFF11.SA','buy','2021-10-29','100','68.32','real'),\n",
    "('BCFF11.SA','buy','2021-10-29','2','68.38','real'),\n",
    "('BCFF11.SA','buy','2021-10-29','18','68.4','real'),\n",
    "('BCFF11.SA','buy','2021-10-29','50','68.35','real'),\n",
    "('BCFF11.SA','buy','2021-10-29','22','68.28','real'),\n",
    "('BCFF11.SA','buy','2021-10-29','8','68.31','real'),\n",
    "('IVVB11.SA','buy','2021-10-29','40','282.35','real'),\n",
    "('BOVA11.SA','sell','2021-10-26','215','102.79','real'),\n",
    "('CVCB3.SA','sell','2021-10-26','100','17.02','real'),\n",
    "('NU','buy','2021-10-01','632','4.5283','dolar'),\n",
    "('BCFF11.SA','buy','2021-09-29','41','72.68','real'),\n",
    "('BCFF11.SA','buy','2021-09-29','66','72.69','real'),\n",
    "('BCFF11.SA','buy','2021-09-29','31','72.7','real'),\n",
    "('BCFF11.SA','buy','2021-09-10','90','72.66','real'),\n",
    "('BCFF11.SA','buy','2021-09-10','3','72.61','real'),\n",
    "('BCFF11.SA','buy','2021-09-10','37','72.44','real'),\n",
    "('BOVA11.SA','buy','2021-08-02','35','119.57','real'),\n",
    "('XINA11.SA','buy','2021-07-02','543','10','real'),\n",
    "('NU','buy','2021-07-01','629','4.5283','dolar'),\n",
    "('XINA11.SA','buy','2021-05-03','557','10.86','real'),\n",
    "('BOVA11.SA','buy','2021-04-09','16','113.32','real'),\n",
    "('NU','buy','2021-04-01','629','3.9783','dolar'),\n",
    "('BOVA11.SA','buy','2021-03-19','140','110.83','real'),\n",
    "('IVVB11.SA','buy','2021-03-19','60','235.13','real'),\n",
    "('CVCB3.SA','sell','2021-02-25','100','17.46','real'),\n",
    "('CVCB3.SA','sell','2021-02-25','300','17.46','real'),\n",
    "('HSML11.SA','sell','2021-02-25','85','93.15','real'),\n",
    "('MDIA3.SA','sell','2021-02-25','300','29.12','real'),\n",
    "('NU','buy','2021-01-01','203','3.9783','dolar'),\n",
    "('BOVA11.SA','buy','2020-10-30','55','90.85','real'),\n",
    "('CVCB3.SA','buy','2020-10-30','300','12.26','real'),\n",
    "('NU','buy','2020-10-01','203','1.7883','dolar'),\n",
    "('NU','buy','2020-07-01','203','1.7883','dolar'),\n",
    "('NU','buy','2020-04-01','209','1.7354','dolar'),\n",
    "('BOVA11.SA','buy','2020-03-11','60','79.28','real'),\n",
    "('HSML11.SA','buy','2020-01-24','85','120.38','real'),\n",
    "('IVVB11.SA','buy','2020-01-17','60','149.02','real'),\n",
    "('BOVA11.SA','buy','2020-01-16','100','112.73','real'),\n",
    "('CVCB3.SA','buy','2020-01-16','200','41.53','real'),\n",
    "('MDIA3.SA','buy','2020-01-16','300','38.88','real'),\n",
    "('MFII11.SA','sell','2020-01-16','73','133','real'),\n",
    "('MFII11.SA','buy','2018-10-25','3','79.9','real'),\n",
    "('MFII11.SA','buy','2018-07-16','70','115.69','real'),\n",
    "]"
   ]
  },
  {
   "cell_type": "code",
   "execution_count": 3,
   "id": "995aadee",
   "metadata": {},
   "outputs": [],
   "source": [
    "host = \"finance.cvm2aaxkmu43.us-east-2.rds.amazonaws.com\"\n",
    "user = \"admin\"\n",
    "password = \"Nk7f4mJr6?A\"\n",
    "database = \"finance\"\n",
    "\n",
    "conn = mysql.connector.connect(\n",
    "    host=host,\n",
    "    user=user,\n",
    "    password=password,\n",
    "    database=database\n",
    ")\n",
    "\n",
    "cursor = conn.cursor()"
   ]
  },
  {
   "cell_type": "code",
   "execution_count": 4,
   "id": "6c489620",
   "metadata": {},
   "outputs": [],
   "source": [
    "cursor.executemany(\n",
    "    \"\"\"\n",
    "    INSERT IGNORE INTO variable_income_operations(ticker, operation_type, operation_date, amount, price, currency)\n",
    "    VALUES (%s, %s, %s, %s, %s, %s)\n",
    "    \"\"\",\n",
    "    values\n",
    ")"
   ]
  },
  {
   "cell_type": "code",
   "execution_count": 5,
   "id": "ac6fdec0",
   "metadata": {},
   "outputs": [
    {
     "name": "stdout",
     "output_type": "stream",
     "text": [
      "Upserted data successfully.\n"
     ]
    }
   ],
   "source": [
    "conn.commit()\n",
    "print(\"Upserted data successfully.\")"
   ]
  },
  {
   "cell_type": "code",
   "execution_count": 6,
   "id": "ae1a718a",
   "metadata": {},
   "outputs": [],
   "source": [
    "conn.close()"
   ]
  },
  {
   "cell_type": "code",
   "execution_count": null,
   "id": "4cc80cac",
   "metadata": {},
   "outputs": [],
   "source": []
  }
 ],
 "metadata": {
  "kernelspec": {
   "display_name": "Python 3 (ipykernel)",
   "language": "python",
   "name": "python3"
  },
  "language_info": {
   "codemirror_mode": {
    "name": "ipython",
    "version": 3
   },
   "file_extension": ".py",
   "mimetype": "text/x-python",
   "name": "python",
   "nbconvert_exporter": "python",
   "pygments_lexer": "ipython3",
   "version": "3.11.3"
  }
 },
 "nbformat": 4,
 "nbformat_minor": 5
}
