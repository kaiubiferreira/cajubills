{
 "cells": [
  {
   "cell_type": "code",
   "execution_count": 1,
   "id": "6019d943",
   "metadata": {},
   "outputs": [],
   "source": [
    "from datetime import datetime, timedelta\n",
    "import mysql.connector\n",
    "\n",
    "# Define the start and end dates\n",
    "start_date = datetime(2018, 1, 1)\n",
    "end_date = datetime.today()\n",
    "\n",
    "# Create a list of dates\n",
    "date_list = []\n",
    "\n",
    "# Iterate from start_date to end_date and add each date to the list\n",
    "current_date = start_date\n",
    "while current_date <= end_date:\n",
    "    date_list.append((current_date,))\n",
    "    current_date += timedelta(days=1)"
   ]
  },
  {
   "cell_type": "code",
   "execution_count": 2,
   "id": "f6125a55",
   "metadata": {},
   "outputs": [],
   "source": [
    "host = \"finance.cvm2aaxkmu43.us-east-2.rds.amazonaws.com\"\n",
    "user = \"admin\"\n",
    "password = \"Nk7f4mJr6?A\"\n",
    "database = \"finance\"\n",
    "\n",
    "conn = mysql.connector.connect(\n",
    "    host=host,\n",
    "    user=user,\n",
    "    password=password,\n",
    "    database=database\n",
    ")\n",
    "\n",
    "cursor = conn.cursor()"
   ]
  },
  {
   "cell_type": "markdown",
   "id": "c56ca177",
   "metadata": {},
   "source": [
    "### Insert NU price before IPO"
   ]
  },
  {
   "cell_type": "code",
   "execution_count": 3,
   "id": "6856cabf",
   "metadata": {},
   "outputs": [],
   "source": [
    "nu_prices = [\n",
    "        (\"NU\", \"2020-04-01\", 1.7354,  1.7354),\n",
    "        (\"NU\", \"2020-07-01\", 1.7883,  1.7883),\n",
    "        (\"NU\", \"2020-10-01\", 1.7883,  1.7883),\n",
    "        (\"NU\", \"2021-01-01\", 3.9783,  3.9783),\n",
    "        (\"NU\", \"2021-04-01\", 3.9783,  3.9783),\n",
    "        (\"NU\", \"2021-07-01\", 4.5283,  4.5283),\n",
    "        (\"NU\", \"2021-10-01\", 4.5283,  4.5283)]"
   ]
  },
  {
   "cell_type": "code",
   "execution_count": 4,
   "id": "170781b6",
   "metadata": {},
   "outputs": [],
   "source": [
    "cursor.executemany(\n",
    "    \"\"\"\n",
    "    INSERT IGNORE INTO asset_price(ticker, quote_date, open_price, close_price)\n",
    "    VALUES(%s, %s, %s, %s)\n",
    "    \"\"\", nu_prices)"
   ]
  },
  {
   "cell_type": "markdown",
   "id": "3288bdf0",
   "metadata": {},
   "source": [
    "### Insert dates"
   ]
  },
  {
   "cell_type": "code",
   "execution_count": 5,
   "id": "7eab7659",
   "metadata": {},
   "outputs": [],
   "source": [
    "cursor.executemany(\n",
    "    \"INSERT IGNORE INTO dates(date) VALUES(%s)\",\n",
    "    date_list\n",
    ")"
   ]
  },
  {
   "cell_type": "markdown",
   "id": "74f59b77",
   "metadata": {},
   "source": [
    "### Insert daily_asset_price"
   ]
  },
  {
   "cell_type": "code",
   "execution_count": 6,
   "id": "6775ac6e",
   "metadata": {},
   "outputs": [],
   "source": [
    "cursor.execute(\n",
    "    \"\"\"\n",
    "    INSERT IGNORE INTO daily_asset_price(ticker, date, price)\n",
    "    WITH date_range AS\n",
    "    (\n",
    "        SELECT\n",
    "            ticker,\n",
    "            quote_date,\n",
    "            LEAD(quote_date) OVER(PARTITION BY ticker ORDER BY quote_date) as next_date,\n",
    "            close_price\n",
    "        FROM asset_price ap\n",
    "    )\n",
    "    SELECT\n",
    "        ticker,\n",
    "        COALESCE(d.date, quote_date) as date,\n",
    "        close_price as price\n",
    "    FROM date_range dr\n",
    "    LEFT JOIN dates d\n",
    "    ON d.date >= dr.quote_date AND d.date < dr.next_date\n",
    "    \"\"\"\n",
    ")"
   ]
  },
  {
   "cell_type": "markdown",
   "id": "ef5aa3d6",
   "metadata": {},
   "source": [
    "### Insert variable_income_daily_balance"
   ]
  },
  {
   "cell_type": "code",
   "execution_count": 7,
   "id": "72437124",
   "metadata": {},
   "outputs": [],
   "source": [
    "cursor.execute(\n",
    "    \"\"\"\n",
    "    INSERT IGNORE INTO variable_income_daily_balance\n",
    "    WITH dolar AS(\n",
    "        SELECT date, price as dolar_price\n",
    "        FROM daily_asset_price\n",
    "        WHERE ticker = \"BRL=X\"\n",
    "    ),\n",
    "    currency AS (\n",
    "        SELECT ticker, MAX(currency) as currency\n",
    "        FROM variable_income_operations\n",
    "        GROUP BY ticker\n",
    "    ),\n",
    "    operation AS (\n",
    "        SELECT \t\n",
    "            ticker,\n",
    "            currency,\n",
    "            operation_date,\n",
    "            LEAD(operation_date) OVER (PARTITION BY ticker ORDER BY operation_date) AS next_operation_date,\n",
    "            SUM(CASE WHEN operation_type = \"buy\" THEN amount else amount * -1 END) AS amount\n",
    "        FROM variable_income_operations o\n",
    "        GROUP BY ticker, currency, operation_date, operation_type\n",
    "    ),\n",
    "    balance AS (\n",
    "        SELECT\n",
    "            p.ticker,\n",
    "            p.date,\n",
    "            p.price,\n",
    "            dolar_price,\n",
    "            c.currency, \n",
    "            amount as amount_change,\n",
    "            SUM(amount) OVER(PARTITION BY ticker ORDER BY p.date) AS amount\n",
    "        FROM daily_asset_price p\n",
    "        LEFT JOIN operation o\n",
    "        ON p.ticker = o.ticker AND p.date = o.operation_date\n",
    "        LEFT JOIN dolar d\n",
    "        ON d.date = p.date\n",
    "        INNER JOIN currency c\n",
    "        ON c.ticker = p.ticker \n",
    "    )\n",
    "    SELECT\n",
    "        ticker,\n",
    "        date,\n",
    "        price,\n",
    "        dolar_price,\n",
    "        currency,\n",
    "        amount_change,\n",
    "        amount,\n",
    "        CASE WHEN currency = \"dolar\" THEN (price * dolar_price) * amount ELSE price * amount END as value\n",
    "    FROM balance\n",
    "    WHERE amount <> 0;\n",
    "    \"\"\"\n",
    ")"
   ]
  },
  {
   "cell_type": "code",
   "execution_count": 8,
   "id": "12fc7efe",
   "metadata": {},
   "outputs": [],
   "source": [
    "conn.commit()"
   ]
  },
  {
   "cell_type": "code",
   "execution_count": 9,
   "id": "10199751",
   "metadata": {},
   "outputs": [],
   "source": [
    "conn.close()"
   ]
  },
  {
   "cell_type": "code",
   "execution_count": null,
   "id": "b455231a",
   "metadata": {},
   "outputs": [],
   "source": []
  }
 ],
 "metadata": {
  "kernelspec": {
   "display_name": "Python 3 (ipykernel)",
   "language": "python",
   "name": "python3"
  },
  "language_info": {
   "codemirror_mode": {
    "name": "ipython",
    "version": 3
   },
   "file_extension": ".py",
   "mimetype": "text/x-python",
   "name": "python",
   "nbconvert_exporter": "python",
   "pygments_lexer": "ipython3",
   "version": "3.11.3"
  }
 },
 "nbformat": 4,
 "nbformat_minor": 5
}
