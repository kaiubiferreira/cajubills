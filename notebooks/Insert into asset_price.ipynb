{
 "cells": [
  {
   "cell_type": "code",
   "execution_count": 1,
   "id": "84868e57",
   "metadata": {},
   "outputs": [],
   "source": [
    "import yfinance as yf\n",
    "from datetime import date\n",
    "import MySQLdb"
   ]
  },
  {
   "cell_type": "code",
   "execution_count": 51,
   "id": "20d84195",
   "metadata": {},
   "outputs": [],
   "source": [
    "db=MySQLdb.connect(host=\"finance.cvm2aaxkmu43.us-east-2.rds.amazonaws.com\",port=3306, user=\"admin\", password=\"Nk7f4mJr6?A\",database=\"finance\")"
   ]
  },
  {
   "cell_type": "code",
   "execution_count": 52,
   "id": "32f5fc81",
   "metadata": {},
   "outputs": [],
   "source": [
    "db.query(\"\"\"SELECT ticker, min(operationDate) FROM variable_income_operations GROUP BY ticker\"\"\")"
   ]
  },
  {
   "cell_type": "code",
   "execution_count": 53,
   "id": "8386880e",
   "metadata": {},
   "outputs": [],
   "source": [
    "cursor = db.cursor()"
   ]
  },
  {
   "cell_type": "code",
   "execution_count": 54,
   "id": "1f74821b",
   "metadata": {},
   "outputs": [],
   "source": [
    "r=db.use_result()"
   ]
  },
  {
   "cell_type": "code",
   "execution_count": 55,
   "id": "d0b44f15",
   "metadata": {},
   "outputs": [],
   "source": [
    "all_rows = r.fetch_row(0)"
   ]
  },
  {
   "cell_type": "code",
   "execution_count": 56,
   "id": "648bafa9",
   "metadata": {},
   "outputs": [
    {
     "data": {
      "text/plain": [
       "(('BOVA11', datetime.date(2020, 10, 30)),\n",
       " ('CVCB3', datetime.date(2020, 10, 30)),\n",
       " ('MDIA3', datetime.date(2020, 2, 25)),\n",
       " ('HSML11', datetime.date(2020, 2, 25)),\n",
       " ('IVVB11', datetime.date(2021, 3, 19)),\n",
       " ('XINA11', datetime.date(2021, 5, 3)),\n",
       " ('BCFF11', datetime.date(2021, 9, 10)),\n",
       " ('CPTS11', datetime.date(2022, 4, 1)))"
      ]
     },
     "execution_count": 56,
     "metadata": {},
     "output_type": "execute_result"
    }
   ],
   "source": [
    "all_rows"
   ]
  },
  {
   "cell_type": "code",
   "execution_count": 81,
   "id": "f35035dd",
   "metadata": {
    "scrolled": true
   },
   "outputs": [
    {
     "name": "stdout",
     "output_type": "stream",
     "text": [
      "VT\n",
      "[*********************100%***********************]  1 of 1 completed\n",
      "NU\n",
      "[*********************100%***********************]  1 of 1 completed\n",
      "AVDV\n",
      "[*********************100%***********************]  1 of 1 completed\n",
      "SLYV\n",
      "[*********************100%***********************]  1 of 1 completed\n"
     ]
    },
    {
     "name": "stderr",
     "output_type": "stream",
     "text": [
      "ERROR CPTS11: No data found, symbol may be delisted\n"
     ]
    },
    {
     "name": "stdout",
     "output_type": "stream",
     "text": [
      "CPTS11\n",
      "[*********************100%***********************]  1 of 1 completed"
     ]
    },
    {
     "name": "stderr",
     "output_type": "stream",
     "text": [
      "ERROR \n",
      "1 Failed download:\n",
      "ERROR ['CPTS11']: Exception('CPTS11: No timezone found, symbol may be delisted')\n"
     ]
    },
    {
     "name": "stdout",
     "output_type": "stream",
     "text": [
      "\n"
     ]
    },
    {
     "name": "stderr",
     "output_type": "stream",
     "text": [
      "ERROR IVVB11: No data found, symbol may be delisted\n"
     ]
    },
    {
     "name": "stdout",
     "output_type": "stream",
     "text": [
      "IVVB11\n",
      "[*********************100%***********************]  1 of 1 completed"
     ]
    },
    {
     "name": "stderr",
     "output_type": "stream",
     "text": [
      "ERROR \n",
      "1 Failed download:\n",
      "ERROR ['IVVB11']: Exception('IVVB11: No timezone found, symbol may be delisted')\n"
     ]
    },
    {
     "name": "stdout",
     "output_type": "stream",
     "text": [
      "\n"
     ]
    },
    {
     "name": "stderr",
     "output_type": "stream",
     "text": [
      "ERROR XINA11: No data found, symbol may be delisted\n"
     ]
    },
    {
     "name": "stdout",
     "output_type": "stream",
     "text": [
      "XINA11\n",
      "[*********************100%***********************]  1 of 1 completed"
     ]
    },
    {
     "name": "stderr",
     "output_type": "stream",
     "text": [
      "ERROR \n",
      "1 Failed download:\n",
      "ERROR ['XINA11']: Exception('XINA11: No timezone found, symbol may be delisted')\n"
     ]
    },
    {
     "name": "stdout",
     "output_type": "stream",
     "text": [
      "\n"
     ]
    },
    {
     "name": "stderr",
     "output_type": "stream",
     "text": [
      "ERROR BCFF11: No data found, symbol may be delisted\n"
     ]
    },
    {
     "name": "stdout",
     "output_type": "stream",
     "text": [
      "BCFF11\n",
      "[*********************100%***********************]  1 of 1 completed"
     ]
    },
    {
     "name": "stderr",
     "output_type": "stream",
     "text": [
      "ERROR \n",
      "1 Failed download:\n",
      "ERROR ['BCFF11']: Exception('BCFF11: No timezone found, symbol may be delisted')\n"
     ]
    },
    {
     "name": "stdout",
     "output_type": "stream",
     "text": [
      "\n"
     ]
    },
    {
     "name": "stderr",
     "output_type": "stream",
     "text": [
      "ERROR BOVA11: No data found, symbol may be delisted\n"
     ]
    },
    {
     "name": "stdout",
     "output_type": "stream",
     "text": [
      "BOVA11\n",
      "[*********************100%***********************]  1 of 1 completed"
     ]
    },
    {
     "name": "stderr",
     "output_type": "stream",
     "text": [
      "ERROR \n",
      "1 Failed download:\n",
      "ERROR ['BOVA11']: Exception('BOVA11: No timezone found, symbol may be delisted')\n"
     ]
    },
    {
     "name": "stdout",
     "output_type": "stream",
     "text": [
      "\n"
     ]
    },
    {
     "name": "stderr",
     "output_type": "stream",
     "text": [
      "ERROR MDIA3: No data found, symbol may be delisted\n"
     ]
    },
    {
     "name": "stdout",
     "output_type": "stream",
     "text": [
      "MDIA3\n",
      "[*********************100%***********************]  1 of 1 completed"
     ]
    },
    {
     "name": "stderr",
     "output_type": "stream",
     "text": [
      "ERROR \n",
      "1 Failed download:\n",
      "ERROR ['MDIA3']: Exception('MDIA3: No timezone found, symbol may be delisted')\n"
     ]
    },
    {
     "name": "stdout",
     "output_type": "stream",
     "text": [
      "\n"
     ]
    },
    {
     "name": "stderr",
     "output_type": "stream",
     "text": [
      "ERROR CVCB3: No data found, symbol may be delisted\n"
     ]
    },
    {
     "name": "stdout",
     "output_type": "stream",
     "text": [
      "CVCB3\n",
      "[*********************100%***********************]  1 of 1 completed"
     ]
    },
    {
     "name": "stderr",
     "output_type": "stream",
     "text": [
      "ERROR \n",
      "1 Failed download:\n",
      "ERROR ['CVCB3']: Exception('CVCB3: No timezone found, symbol may be delisted')\n"
     ]
    },
    {
     "name": "stdout",
     "output_type": "stream",
     "text": [
      "\n"
     ]
    },
    {
     "name": "stderr",
     "output_type": "stream",
     "text": [
      "ERROR HSML11: No data found, symbol may be delisted\n"
     ]
    },
    {
     "name": "stdout",
     "output_type": "stream",
     "text": [
      "HSML11\n",
      "[*********************100%***********************]  1 of 1 completed"
     ]
    },
    {
     "name": "stderr",
     "output_type": "stream",
     "text": [
      "ERROR \n",
      "1 Failed download:\n",
      "ERROR ['HSML11']: Exception('HSML11: No timezone found, symbol may be delisted')\n"
     ]
    },
    {
     "name": "stdout",
     "output_type": "stream",
     "text": [
      "\n"
     ]
    }
   ],
   "source": [
    "today = date.today()\n",
    "for ticker, min_time in all_rows:\n",
    "    try:\n",
    "        yf.Ticker(ticker).history(period='7d', interval='1d')\n",
    "    except:\n",
    "        ticker = ticker + '.SA'\n",
    "    finally:\n",
    "        print(ticker)\n",
    "        data = yf.download(ticker, start=\"2016-01-01\", end=today)\n",
    "        data = data.reset_index()\n",
    "        data = data.rename(columns={'Date': 'quote_date', 'Open': 'open_price', 'Close': 'close_price'})\n",
    "        data['ticker'] = ticker\n",
    "        values = [(row[1]['ticker'], row[1]['quote_date'], row[1]['open_price'], row[1]['close_price']) for row in data.iterrows()]\n",
    "        cursor.executemany(\n",
    "            \"INSERT IGNORE INTO asset_price(ticker, quote_date, open_price, close_price) VALUES(%s, %s, %s, %s)\",\n",
    "            values\n",
    "        )"
   ]
  },
  {
   "cell_type": "code",
   "execution_count": 48,
   "id": "c80a5d04",
   "metadata": {},
   "outputs": [],
   "source": [
    "db.commit()"
   ]
  },
  {
   "cell_type": "code",
   "execution_count": 49,
   "id": "68d53a95",
   "metadata": {},
   "outputs": [],
   "source": [
    "db.close()"
   ]
  }
 ],
 "metadata": {
  "kernelspec": {
   "display_name": "Python 3 (ipykernel)",
   "language": "python",
   "name": "python3"
  },
  "language_info": {
   "codemirror_mode": {
    "name": "ipython",
    "version": 3
   },
   "file_extension": ".py",
   "mimetype": "text/x-python",
   "name": "python",
   "nbconvert_exporter": "python",
   "pygments_lexer": "ipython3",
   "version": "3.11.3"
  }
 },
 "nbformat": 4,
 "nbformat_minor": 5
}
