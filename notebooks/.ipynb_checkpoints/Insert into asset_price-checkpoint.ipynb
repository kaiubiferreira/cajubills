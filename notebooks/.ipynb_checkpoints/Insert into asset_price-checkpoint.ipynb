{
 "cells": [
  {
   "cell_type": "code",
   "execution_count": 1,
   "id": "84868e57",
   "metadata": {},
   "outputs": [],
   "source": [
    "import yfinance as yf\n",
    "from datetime import date\n",
    "import MySQLdb"
   ]
  },
  {
   "cell_type": "code",
   "execution_count": 51,
   "id": "20d84195",
   "metadata": {},
   "outputs": [],
   "source": [
    "db=MySQLdb.connect(host=\"finance.cvm2aaxkmu43.us-east-2.rds.amazonaws.com\",port=3306, user=\"admin\", password=\"Nk7f4mJr6?A\",database=\"finance\")"
   ]
  },
  {
   "cell_type": "code",
   "execution_count": 52,
   "id": "32f5fc81",
   "metadata": {},
   "outputs": [],
   "source": [
    "db.query(\"\"\"SELECT ticker, min(operationDate) FROM variable_income_operations GROUP BY ticker\"\"\")"
   ]
  },
  {
   "cell_type": "code",
   "execution_count": 53,
   "id": "8386880e",
   "metadata": {},
   "outputs": [],
   "source": [
    "cursor = db.cursor()"
   ]
  },
  {
   "cell_type": "code",
   "execution_count": 54,
   "id": "1f74821b",
   "metadata": {},
   "outputs": [],
   "source": [
    "r=db.use_result()"
   ]
  },
  {
   "cell_type": "code",
   "execution_count": 55,
   "id": "d0b44f15",
   "metadata": {},
   "outputs": [],
   "source": [
    "all_rows = r.fetch_row(0)"
   ]
  },
  {
   "cell_type": "code",
   "execution_count": 56,
   "id": "648bafa9",
   "metadata": {},
   "outputs": [
    {
     "data": {
      "text/plain": [
       "(('BOVA11', datetime.date(2020, 10, 30)),\n",
       " ('CVCB3', datetime.date(2020, 10, 30)),\n",
       " ('MDIA3', datetime.date(2020, 2, 25)),\n",
       " ('HSML11', datetime.date(2020, 2, 25)),\n",
       " ('IVVB11', datetime.date(2021, 3, 19)),\n",
       " ('XINA11', datetime.date(2021, 5, 3)),\n",
       " ('BCFF11', datetime.date(2021, 9, 10)),\n",
       " ('CPTS11', datetime.date(2022, 4, 1)))"
      ]
     },
     "execution_count": 56,
     "metadata": {},
     "output_type": "execute_result"
    }
   ],
   "source": [
    "all_rows"
   ]
  },
  {
   "cell_type": "code",
   "execution_count": 59,
   "id": "f35035dd",
   "metadata": {
    "scrolled": true
   },
   "outputs": [
    {
     "name": "stdout",
     "output_type": "stream",
     "text": [
      "BOVA11 2020-10-30\n",
      "[*********************100%***********************]  1 of 1 completed\n",
      "CVCB3 2020-10-30\n",
      "[*********************100%***********************]  1 of 1 completed\n",
      "MDIA3 2020-02-25\n",
      "[*********************100%***********************]  1 of 1 completed\n",
      "HSML11 2020-02-25\n",
      "[*********************100%***********************]  1 of 1 completed\n",
      "IVVB11 2021-03-19\n",
      "[*********************100%***********************]  1 of 1 completed\n",
      "XINA11 2021-05-03\n",
      "[*********************100%***********************]  1 of 1 completed\n",
      "BCFF11 2021-09-10\n",
      "[*********************100%***********************]  1 of 1 completed\n",
      "CPTS11 2022-04-01\n",
      "[*********************100%***********************]  1 of 1 completed\n"
     ]
    }
   ],
   "source": [
    "today = date.today()\n",
    "for ticker, min_time in all_rows:\n",
    "    print(ticker, min_time)\n",
    "    try:\n",
    "        yf.Ticker(ticker).info\n",
    "    except:\n",
    "        ticker = ticker + '.SA'\n",
    "    \n",
    "    data = yf.download(ticker, start=\"2016-01-01\", end=today)\n",
    "    data = data.reset_index()\n",
    "    data = data.rename(columns={'Date': 'quote_date', 'Open': 'open_price', 'Close': 'close_price'})\n",
    "    data['ticker'] = ticker\n",
    "    values = [(row[1]['ticker'], row[1]['quote_date'], row[1]['open_price'], row[1]['close_price']) for row in data.iterrows()]\n",
    "    cursor.executemany(\n",
    "        \"INSERT IGNORE INTO asset_price(ticker, quote_date, open_price, close_price) VALUES(%s, %s, %s, %s)\",\n",
    "        values\n",
    "    )"
   ]
  },
  {
   "cell_type": "code",
   "execution_count": null,
   "id": "4523d796",
   "metadata": {},
   "outputs": [],
   "source": [
    "yf.Ticker(ticker).info[\"volume\"]"
   ]
  },
  {
   "cell_type": "code",
   "execution_count": 48,
   "id": "c80a5d04",
   "metadata": {},
   "outputs": [],
   "source": [
    "db.commit()"
   ]
  },
  {
   "cell_type": "code",
   "execution_count": 49,
   "id": "68d53a95",
   "metadata": {},
   "outputs": [],
   "source": [
    "db.close()"
   ]
  }
 ],
 "metadata": {
  "kernelspec": {
   "display_name": "Python 3 (ipykernel)",
   "language": "python",
   "name": "python3"
  },
  "language_info": {
   "codemirror_mode": {
    "name": "ipython",
    "version": 3
   },
   "file_extension": ".py",
   "mimetype": "text/x-python",
   "name": "python",
   "nbconvert_exporter": "python",
   "pygments_lexer": "ipython3",
   "version": "3.11.3"
  }
 },
 "nbformat": 4,
 "nbformat_minor": 5
}
