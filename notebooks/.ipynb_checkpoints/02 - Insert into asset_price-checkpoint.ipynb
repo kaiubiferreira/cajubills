{
 "cells": [
  {
   "cell_type": "code",
   "execution_count": 14,
   "id": "84868e57",
   "metadata": {},
   "outputs": [],
   "source": [
    "import yfinance as yf\n",
    "\n",
    "ticker = \"IVVB11.SA\""
   ]
  },
  {
   "cell_type": "code",
   "execution_count": 51,
   "id": "98bceecd",
   "metadata": {},
   "outputs": [
    {
     "name": "stdout",
     "output_type": "stream",
     "text": [
      "Today's date: 2023-10-06\n"
     ]
    }
   ],
   "source": [
    "from datetime import date\n",
    "\n",
    "today = date.today()\n",
    "print(\"Today's date:\", today)"
   ]
  },
  {
   "cell_type": "code",
   "execution_count": 52,
   "id": "7a93acd3",
   "metadata": {},
   "outputs": [
    {
     "name": "stdout",
     "output_type": "stream",
     "text": [
      "[*********************100%***********************]  1 of 1 completed\n"
     ]
    }
   ],
   "source": [
    "import yfinance as yf\n"
   ]
  },
  {
   "cell_type": "code",
   "execution_count": 53,
   "id": "1653adbd",
   "metadata": {},
   "outputs": [
    {
     "data": {
      "text/html": [
       "<div>\n",
       "<style scoped>\n",
       "    .dataframe tbody tr th:only-of-type {\n",
       "        vertical-align: middle;\n",
       "    }\n",
       "\n",
       "    .dataframe tbody tr th {\n",
       "        vertical-align: top;\n",
       "    }\n",
       "\n",
       "    .dataframe thead th {\n",
       "        text-align: right;\n",
       "    }\n",
       "</style>\n",
       "<table border=\"1\" class=\"dataframe\">\n",
       "  <thead>\n",
       "    <tr style=\"text-align: right;\">\n",
       "      <th></th>\n",
       "      <th>Open</th>\n",
       "      <th>High</th>\n",
       "      <th>Low</th>\n",
       "      <th>Close</th>\n",
       "      <th>Adj Close</th>\n",
       "      <th>Volume</th>\n",
       "    </tr>\n",
       "    <tr>\n",
       "      <th>Date</th>\n",
       "      <th></th>\n",
       "      <th></th>\n",
       "      <th></th>\n",
       "      <th></th>\n",
       "      <th></th>\n",
       "      <th></th>\n",
       "    </tr>\n",
       "  </thead>\n",
       "  <tbody>\n",
       "    <tr>\n",
       "      <th>2016-01-04</th>\n",
       "      <td>83.129997</td>\n",
       "      <td>83.279999</td>\n",
       "      <td>82.910004</td>\n",
       "      <td>83.110001</td>\n",
       "      <td>83.110001</td>\n",
       "      <td>44350</td>\n",
       "    </tr>\n",
       "    <tr>\n",
       "      <th>2016-01-05</th>\n",
       "      <td>83.919998</td>\n",
       "      <td>83.919998</td>\n",
       "      <td>82.430000</td>\n",
       "      <td>83.000000</td>\n",
       "      <td>83.000000</td>\n",
       "      <td>96530</td>\n",
       "    </tr>\n",
       "    <tr>\n",
       "      <th>2016-01-06</th>\n",
       "      <td>83.000000</td>\n",
       "      <td>83.000000</td>\n",
       "      <td>82.019997</td>\n",
       "      <td>82.099998</td>\n",
       "      <td>82.099998</td>\n",
       "      <td>50250</td>\n",
       "    </tr>\n",
       "    <tr>\n",
       "      <th>2016-01-07</th>\n",
       "      <td>83.000000</td>\n",
       "      <td>83.000000</td>\n",
       "      <td>80.889999</td>\n",
       "      <td>81.000000</td>\n",
       "      <td>81.000000</td>\n",
       "      <td>29300</td>\n",
       "    </tr>\n",
       "    <tr>\n",
       "      <th>2016-01-08</th>\n",
       "      <td>83.220001</td>\n",
       "      <td>83.220001</td>\n",
       "      <td>80.000000</td>\n",
       "      <td>80.000000</td>\n",
       "      <td>80.000000</td>\n",
       "      <td>10670</td>\n",
       "    </tr>\n",
       "    <tr>\n",
       "      <th>...</th>\n",
       "      <td>...</td>\n",
       "      <td>...</td>\n",
       "      <td>...</td>\n",
       "      <td>...</td>\n",
       "      <td>...</td>\n",
       "      <td>...</td>\n",
       "    </tr>\n",
       "    <tr>\n",
       "      <th>2023-09-29</th>\n",
       "      <td>239.529999</td>\n",
       "      <td>240.500000</td>\n",
       "      <td>237.250000</td>\n",
       "      <td>238.789993</td>\n",
       "      <td>238.789993</td>\n",
       "      <td>434346</td>\n",
       "    </tr>\n",
       "    <tr>\n",
       "      <th>2023-10-02</th>\n",
       "      <td>238.820007</td>\n",
       "      <td>240.970001</td>\n",
       "      <td>238.789993</td>\n",
       "      <td>240.800003</td>\n",
       "      <td>240.800003</td>\n",
       "      <td>148755</td>\n",
       "    </tr>\n",
       "    <tr>\n",
       "      <th>2023-10-03</th>\n",
       "      <td>240.199997</td>\n",
       "      <td>241.649994</td>\n",
       "      <td>239.179993</td>\n",
       "      <td>241.649994</td>\n",
       "      <td>241.649994</td>\n",
       "      <td>287851</td>\n",
       "    </tr>\n",
       "    <tr>\n",
       "      <th>2023-10-04</th>\n",
       "      <td>241.199997</td>\n",
       "      <td>243.539993</td>\n",
       "      <td>240.119995</td>\n",
       "      <td>243.539993</td>\n",
       "      <td>243.539993</td>\n",
       "      <td>196169</td>\n",
       "    </tr>\n",
       "    <tr>\n",
       "      <th>2023-10-05</th>\n",
       "      <td>242.899994</td>\n",
       "      <td>244.160004</td>\n",
       "      <td>241.970001</td>\n",
       "      <td>243.800003</td>\n",
       "      <td>243.800003</td>\n",
       "      <td>365424</td>\n",
       "    </tr>\n",
       "  </tbody>\n",
       "</table>\n",
       "<p>1908 rows × 6 columns</p>\n",
       "</div>"
      ],
      "text/plain": [
       "                  Open        High         Low       Close   Adj Close  Volume\n",
       "Date                                                                          \n",
       "2016-01-04   83.129997   83.279999   82.910004   83.110001   83.110001   44350\n",
       "2016-01-05   83.919998   83.919998   82.430000   83.000000   83.000000   96530\n",
       "2016-01-06   83.000000   83.000000   82.019997   82.099998   82.099998   50250\n",
       "2016-01-07   83.000000   83.000000   80.889999   81.000000   81.000000   29300\n",
       "2016-01-08   83.220001   83.220001   80.000000   80.000000   80.000000   10670\n",
       "...                ...         ...         ...         ...         ...     ...\n",
       "2023-09-29  239.529999  240.500000  237.250000  238.789993  238.789993  434346\n",
       "2023-10-02  238.820007  240.970001  238.789993  240.800003  240.800003  148755\n",
       "2023-10-03  240.199997  241.649994  239.179993  241.649994  241.649994  287851\n",
       "2023-10-04  241.199997  243.539993  240.119995  243.539993  243.539993  196169\n",
       "2023-10-05  242.899994  244.160004  241.970001  243.800003  243.800003  365424\n",
       "\n",
       "[1908 rows x 6 columns]"
      ]
     },
     "execution_count": 53,
     "metadata": {},
     "output_type": "execute_result"
    }
   ],
   "source": [
    "data"
   ]
  },
  {
   "cell_type": "code",
   "execution_count": 17,
   "id": "52d116a0",
   "metadata": {},
   "outputs": [],
   "source": [
    "data = data.reset_index()"
   ]
  },
  {
   "cell_type": "code",
   "execution_count": 18,
   "id": "9f0f38a3",
   "metadata": {},
   "outputs": [],
   "source": [
    "data = data.rename(columns={'Date': 'quoteDate', 'Open': 'openPrice', 'Close': 'closePrice'})"
   ]
  },
  {
   "cell_type": "code",
   "execution_count": 19,
   "id": "c6c86d0c",
   "metadata": {},
   "outputs": [],
   "source": [
    "data['ticker'] = ticker"
   ]
  },
  {
   "cell_type": "code",
   "execution_count": 20,
   "id": "b93d3b5c",
   "metadata": {},
   "outputs": [
    {
     "data": {
      "text/html": [
       "<div>\n",
       "<style scoped>\n",
       "    .dataframe tbody tr th:only-of-type {\n",
       "        vertical-align: middle;\n",
       "    }\n",
       "\n",
       "    .dataframe tbody tr th {\n",
       "        vertical-align: top;\n",
       "    }\n",
       "\n",
       "    .dataframe thead th {\n",
       "        text-align: right;\n",
       "    }\n",
       "</style>\n",
       "<table border=\"1\" class=\"dataframe\">\n",
       "  <thead>\n",
       "    <tr style=\"text-align: right;\">\n",
       "      <th></th>\n",
       "      <th>ticker</th>\n",
       "      <th>quoteDate</th>\n",
       "      <th>openPrice</th>\n",
       "      <th>closePrice</th>\n",
       "    </tr>\n",
       "  </thead>\n",
       "  <tbody>\n",
       "    <tr>\n",
       "      <th>0</th>\n",
       "      <td>IVVB11.SA</td>\n",
       "      <td>2016-01-04</td>\n",
       "      <td>83.129997</td>\n",
       "      <td>83.110001</td>\n",
       "    </tr>\n",
       "    <tr>\n",
       "      <th>1</th>\n",
       "      <td>IVVB11.SA</td>\n",
       "      <td>2016-01-05</td>\n",
       "      <td>83.919998</td>\n",
       "      <td>83.000000</td>\n",
       "    </tr>\n",
       "    <tr>\n",
       "      <th>2</th>\n",
       "      <td>IVVB11.SA</td>\n",
       "      <td>2016-01-06</td>\n",
       "      <td>83.000000</td>\n",
       "      <td>82.099998</td>\n",
       "    </tr>\n",
       "    <tr>\n",
       "      <th>3</th>\n",
       "      <td>IVVB11.SA</td>\n",
       "      <td>2016-01-07</td>\n",
       "      <td>83.000000</td>\n",
       "      <td>81.000000</td>\n",
       "    </tr>\n",
       "    <tr>\n",
       "      <th>4</th>\n",
       "      <td>IVVB11.SA</td>\n",
       "      <td>2016-01-08</td>\n",
       "      <td>83.220001</td>\n",
       "      <td>80.000000</td>\n",
       "    </tr>\n",
       "    <tr>\n",
       "      <th>...</th>\n",
       "      <td>...</td>\n",
       "      <td>...</td>\n",
       "      <td>...</td>\n",
       "      <td>...</td>\n",
       "    </tr>\n",
       "    <tr>\n",
       "      <th>1792</th>\n",
       "      <td>IVVB11.SA</td>\n",
       "      <td>2023-04-24</td>\n",
       "      <td>230.600006</td>\n",
       "      <td>230.500000</td>\n",
       "    </tr>\n",
       "    <tr>\n",
       "      <th>1793</th>\n",
       "      <td>IVVB11.SA</td>\n",
       "      <td>2023-04-25</td>\n",
       "      <td>229.179993</td>\n",
       "      <td>228.490005</td>\n",
       "    </tr>\n",
       "    <tr>\n",
       "      <th>1794</th>\n",
       "      <td>IVVB11.SA</td>\n",
       "      <td>2023-04-26</td>\n",
       "      <td>228.279999</td>\n",
       "      <td>227.000000</td>\n",
       "    </tr>\n",
       "    <tr>\n",
       "      <th>1795</th>\n",
       "      <td>IVVB11.SA</td>\n",
       "      <td>2023-04-27</td>\n",
       "      <td>226.449997</td>\n",
       "      <td>227.500000</td>\n",
       "    </tr>\n",
       "    <tr>\n",
       "      <th>1796</th>\n",
       "      <td>IVVB11.SA</td>\n",
       "      <td>2023-04-28</td>\n",
       "      <td>227.259995</td>\n",
       "      <td>229.750000</td>\n",
       "    </tr>\n",
       "  </tbody>\n",
       "</table>\n",
       "<p>1797 rows × 4 columns</p>\n",
       "</div>"
      ],
      "text/plain": [
       "         ticker  quoteDate   openPrice  closePrice\n",
       "0     IVVB11.SA 2016-01-04   83.129997   83.110001\n",
       "1     IVVB11.SA 2016-01-05   83.919998   83.000000\n",
       "2     IVVB11.SA 2016-01-06   83.000000   82.099998\n",
       "3     IVVB11.SA 2016-01-07   83.000000   81.000000\n",
       "4     IVVB11.SA 2016-01-08   83.220001   80.000000\n",
       "...         ...        ...         ...         ...\n",
       "1792  IVVB11.SA 2023-04-24  230.600006  230.500000\n",
       "1793  IVVB11.SA 2023-04-25  229.179993  228.490005\n",
       "1794  IVVB11.SA 2023-04-26  228.279999  227.000000\n",
       "1795  IVVB11.SA 2023-04-27  226.449997  227.500000\n",
       "1796  IVVB11.SA 2023-04-28  227.259995  229.750000\n",
       "\n",
       "[1797 rows x 4 columns]"
      ]
     },
     "execution_count": 20,
     "metadata": {},
     "output_type": "execute_result"
    }
   ],
   "source": [
    "data[['ticker', 'quoteDate', 'openPrice', 'closePrice']]"
   ]
  },
  {
   "cell_type": "code",
   "execution_count": 45,
   "id": "da5e3e74",
   "metadata": {},
   "outputs": [],
   "source": [
    "from MySQLdb import _mysql\n"
   ]
  },
  {
   "cell_type": "code",
   "execution_count": 62,
   "id": "20d84195",
   "metadata": {},
   "outputs": [],
   "source": [
    "db=_mysql.connect(host=\"finance.cvm2aaxkmu43.us-east-2.rds.amazonaws.com\",port=3306, user=\"admin\", password=\"Nk7f4mJr6?A\",database=\"finance\")"
   ]
  },
  {
   "cell_type": "code",
   "execution_count": 63,
   "id": "32f5fc81",
   "metadata": {},
   "outputs": [],
   "source": [
    "db.query(\"\"\"SELECT ticker, min(operationDate) FROM variable_income GROUP BY ticker\"\"\")"
   ]
  },
  {
   "cell_type": "code",
   "execution_count": 64,
   "id": "1f74821b",
   "metadata": {},
   "outputs": [],
   "source": [
    "r=db.use_result()\n"
   ]
  },
  {
   "cell_type": "code",
   "execution_count": null,
   "id": "ede7dedf",
   "metadata": {},
   "outputs": [],
   "source": []
  },
  {
   "cell_type": "code",
   "execution_count": 66,
   "id": "ad996152",
   "metadata": {},
   "outputs": [],
   "source": [
    "all_rows = r.fetch_row(0)"
   ]
  },
  {
   "cell_type": "code",
   "execution_count": 67,
   "id": "648bafa9",
   "metadata": {},
   "outputs": [
    {
     "data": {
      "text/plain": [
       "((b'BOVA11', b'2020-10-30'),\n",
       " (b'CVCB3', b'2020-10-30'),\n",
       " (b'MDIA3', b'2020-02-25'),\n",
       " (b'HSML11', b'2020-02-25'),\n",
       " (b'IVVB11', b'2021-03-19'),\n",
       " (b'XINA11', b'2021-05-03'),\n",
       " (b'BCFF11', b'2021-09-10'),\n",
       " (b'CPTS11', b'2022-04-01'))"
      ]
     },
     "execution_count": 67,
     "metadata": {},
     "output_type": "execute_result"
    }
   ],
   "source": [
    "all_rows"
   ]
  },
  {
   "cell_type": "code",
   "execution_count": null,
   "id": "483a41a0",
   "metadata": {},
   "outputs": [],
   "source": [
    "data = yf.download(ticker, start=\"2016-01-01\", end=today)"
   ]
  }
 ],
 "metadata": {
  "kernelspec": {
   "display_name": "Python 3 (ipykernel)",
   "language": "python",
   "name": "python3"
  },
  "language_info": {
   "codemirror_mode": {
    "name": "ipython",
    "version": 3
   },
   "file_extension": ".py",
   "mimetype": "text/x-python",
   "name": "python",
   "nbconvert_exporter": "python",
   "pygments_lexer": "ipython3",
   "version": "3.11.3"
  }
 },
 "nbformat": 4,
 "nbformat_minor": 5
}
