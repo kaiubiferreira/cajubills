{
 "cells": [
  {
   "cell_type": "code",
   "execution_count": 1,
   "id": "6019d943",
   "metadata": {},
   "outputs": [],
   "source": [
    "from datetime import datetime, timedelta\n",
    "import mysql.connector\n",
    "\n",
    "# Define the start and end dates\n",
    "start_date = datetime(2018, 1, 1)\n",
    "end_date = datetime.today()\n",
    "\n",
    "# Create a list of dates\n",
    "date_list = []\n",
    "\n",
    "# Iterate from start_date to end_date and add each date to the list\n",
    "current_date = start_date\n",
    "while current_date <= end_date:\n",
    "    date_list.append((current_date,))\n",
    "    current_date += timedelta(days=1)"
   ]
  },
  {
   "cell_type": "code",
   "execution_count": 2,
   "id": "f6125a55",
   "metadata": {},
   "outputs": [],
   "source": [
    "host = \"finance.cvm2aaxkmu43.us-east-2.rds.amazonaws.com\"\n",
    "user = \"admin\"\n",
    "password = \"Nk7f4mJr6?A\"\n",
    "database = \"finance\"\n",
    "\n",
    "conn = mysql.connector.connect(\n",
    "    host=host,\n",
    "    user=user,\n",
    "    password=password,\n",
    "    database=database\n",
    ")\n",
    "\n",
    "cursor = conn.cursor()"
   ]
  },
  {
   "cell_type": "markdown",
   "id": "c56ca177",
   "metadata": {},
   "source": [
    "### Insert NU price before IPO"
   ]
  },
  {
   "cell_type": "code",
   "execution_count": 3,
   "id": "6856cabf",
   "metadata": {},
   "outputs": [],
   "source": [
    "nu_prices = [\n",
    "        (\"NU\", \"2020-04-01\", 1.7354,  1.7354),\n",
    "        (\"NU\", \"2020-07-01\", 1.7883,  1.7883),\n",
    "        (\"NU\", \"2020-10-01\", 1.7883,  1.7883),\n",
    "        (\"NU\", \"2021-01-01\", 3.9783,  3.9783),\n",
    "        (\"NU\", \"2021-04-01\", 3.9783,  3.9783),\n",
    "        (\"NU\", \"2021-07-01\", 4.5283,  4.5283),\n",
    "        (\"NU\", \"2021-10-01\", 4.5283,  4.5283)]"
   ]
  },
  {
   "cell_type": "code",
   "execution_count": 4,
   "id": "170781b6",
   "metadata": {},
   "outputs": [],
   "source": [
    "cursor.executemany(\n",
    "    \"\"\"\n",
    "    INSERT IGNORE INTO asset_price(ticker, quote_date, open_price, close_price)\n",
    "    VALUES(%s, %s, %s, %s)\n",
    "    \"\"\", nu_prices)"
   ]
  },
  {
   "cell_type": "markdown",
   "id": "3288bdf0",
   "metadata": {},
   "source": [
    "### Insert dates"
   ]
  },
  {
   "cell_type": "code",
   "execution_count": 5,
   "id": "7eab7659",
   "metadata": {},
   "outputs": [],
   "source": [
    "cursor.executemany(\n",
    "    \"INSERT IGNORE INTO dates(date) VALUES(%s)\",\n",
    "    date_list\n",
    ")"
   ]
  },
  {
   "cell_type": "markdown",
   "id": "74f59b77",
   "metadata": {},
   "source": [
    "### Insert daily_asset_price"
   ]
  },
  {
   "cell_type": "code",
   "execution_count": 6,
   "id": "d1a79cb9",
   "metadata": {},
   "outputs": [],
   "source": [
    "cursor.execute(\"DELETE FROM daily_asset_price\")"
   ]
  },
  {
   "cell_type": "code",
   "execution_count": 7,
   "id": "6775ac6e",
   "metadata": {},
   "outputs": [],
   "source": [
    "cursor.execute(\n",
    "    \"\"\"\n",
    "    INSERT IGNORE INTO daily_asset_price(ticker, date, price)\n",
    "    WITH date_range AS\n",
    "    (\n",
    "        SELECT\n",
    "            ticker,\n",
    "            quote_date,\n",
    "            LEAD(quote_date) OVER(PARTITION BY ticker ORDER BY quote_date) as next_date,\n",
    "            close_price\n",
    "        FROM asset_price ap\n",
    "    )\n",
    "    SELECT\n",
    "        ticker,\n",
    "        COALESCE(d.date, quote_date) as date,\n",
    "        close_price as price\n",
    "    FROM date_range dr\n",
    "    LEFT JOIN dates d\n",
    "    ON d.date >= dr.quote_date AND d.date < dr.next_date\n",
    "    \"\"\"\n",
    ")"
   ]
  },
  {
   "cell_type": "markdown",
   "id": "ef5aa3d6",
   "metadata": {},
   "source": [
    "### Insert variable_income_daily_balance"
   ]
  },
  {
   "cell_type": "code",
   "execution_count": 8,
   "id": "6c45ffd4",
   "metadata": {},
   "outputs": [],
   "source": [
    "cursor.execute(\"DELETE FROM variable_income_daily_balance\")"
   ]
  },
  {
   "cell_type": "code",
   "execution_count": 9,
   "id": "72437124",
   "metadata": {},
   "outputs": [],
   "source": [
    "cursor.execute(\n",
    "    \"\"\"\n",
    "    INSERT INTO variable_income_daily_balance\n",
    "    WITH dolar AS(\n",
    "        SELECT date, price as dolar_price\n",
    "        FROM daily_asset_price\n",
    "        WHERE ticker = \"BRL=X\"\n",
    "    ),\n",
    "    currency AS (\n",
    "        SELECT ticker, MAX(currency) as currency\n",
    "        FROM variable_income_operations\n",
    "        GROUP BY ticker\n",
    "    ),\n",
    "    operation AS (\n",
    "        SELECT \t\n",
    "            ticker,\n",
    "            currency,\n",
    "            operation_date,\n",
    "            LEAD(operation_date) OVER (PARTITION BY ticker ORDER BY operation_date) AS next_operation_date,\n",
    "            SUM(CASE WHEN operation_type = \"buy\" THEN amount else amount * -1 END) AS amount\n",
    "        FROM variable_income_operations o\n",
    "        GROUP BY ticker, currency, operation_date, operation_type\n",
    "    ),\n",
    "    balance AS (\n",
    "        SELECT\n",
    "            p.ticker,\n",
    "            p.date,\n",
    "            p.price,\n",
    "            dolar_price,\n",
    "            c.currency, \n",
    "            amount as amount_change,\n",
    "            SUM(amount) OVER(PARTITION BY ticker ORDER BY p.date) AS amount\n",
    "        FROM daily_asset_price p\n",
    "        LEFT JOIN operation o\n",
    "        ON p.ticker = o.ticker AND p.date = o.operation_date\n",
    "        LEFT JOIN dolar d\n",
    "        ON d.date = p.date\n",
    "        INNER JOIN currency c\n",
    "        ON c.ticker = p.ticker \n",
    "    )\n",
    "    SELECT\n",
    "        ticker,\n",
    "        date,\n",
    "        price,\n",
    "        dolar_price,\n",
    "        currency,\n",
    "        amount_change,\n",
    "        amount,\n",
    "        CASE WHEN currency = \"dolar\" THEN (price * dolar_price) * amount ELSE price * amount END as value\n",
    "    FROM balance\n",
    "    WHERE amount <> 0;\n",
    "    \"\"\"\n",
    ")"
   ]
  },
  {
   "cell_type": "markdown",
   "id": "ecb89231",
   "metadata": {},
   "source": [
    "### Insert fixed_income_daily_balance"
   ]
  },
  {
   "cell_type": "code",
   "execution_count": 10,
   "id": "dcfb9447",
   "metadata": {},
   "outputs": [],
   "source": [
    "cursor.execute(\"DELETE FROM fixed_income_daily_balance\")"
   ]
  },
  {
   "cell_type": "code",
   "execution_count": 11,
   "id": "c63805f2",
   "metadata": {},
   "outputs": [],
   "source": [
    "cursor.execute(\n",
    "    \"\"\"\n",
    "     INSERT INTO fixed_income_daily_balance\n",
    "     WITH base_ipca AS(\n",
    "            SELECT \n",
    "                financial_index,\n",
    "                date,\n",
    "                COALESCE(lead(date) OVER (PARTITION BY financial_index ORDER BY date), \"2099-01-01\") AS next_date,\n",
    "            factor\n",
    "        FROM index_series\n",
    "        WHERE financial_index = \"ipca\"\n",
    "    ), daily_indexes AS(\n",
    "        SELECT \n",
    "            ipca.financial_index,\n",
    "            i.date,\n",
    "            1 + ipca.factor/100/21 AS factor\n",
    "        FROM index_series i\n",
    "        INNER JOIN base_ipca ipca\n",
    "        ON i.date >= ipca.date and i.date < ipca.next_date\n",
    "        WHERE i.financial_index = \"cdi\"\n",
    "        UNION\n",
    "        SELECT financial_index, date, factor\n",
    "        FROM index_series \n",
    "        WHERE financial_index <> \"ipca\"\n",
    "    ), daily_rates AS (\n",
    "        SELECT \n",
    "            i.date,\n",
    "            i.factor,\n",
    "            op.asset,\n",
    "            op.purchase_date,\n",
    "            op.value,\n",
    "            op.pre_rate,\n",
    "            op.post_rate,\n",
    "            op.due_date,\n",
    "            op.tax_rate,\n",
    "            op.is_pgbl,\n",
    "            pow((1.0 + pre_rate),(1.0/252)) -1 as daily_pre_rate,\n",
    "            (op.post_rate * (i.factor - 1) + 1) as daily_post_rate,\n",
    "            pow((1.0 + pre_rate),(1.0/252)) -1 + (op.post_rate * (i.factor - 1) + 1) as total_daily_rate,\n",
    "            EXP(SUM(LN(pow((1.0 + pre_rate),(1.0/252)) -1  + (op.post_rate * (i.factor - 1) + 1))) OVER (PARTITION BY op.asset, op.purchase_date ORDER BY i.date)) AS cumulative_daily_rate\n",
    "        FROM fixed_income_operations op\n",
    "        INNER JOIN daily_indexes i\n",
    "        ON op.financial_index = i.financial_index\n",
    "        AND i.date BETWEEN op.purchase_date AND op.due_date\n",
    "        WHERE op.asset NOT LIKE \"%Tesouro Selic%\"\n",
    "    ), grouped AS (\n",
    "        SELECT \n",
    "            asset,\n",
    "            due_date,\n",
    "            date,\n",
    "            tax_rate,\n",
    "            SUM(value) as deposit_value,\n",
    "            SUM(cumulative_daily_rate * value) AS gross_value,\n",
    "            SUM(CASE WHEN is_pgbl THEN cumulative_daily_rate * value * tax_rate ELSE (cumulative_daily_rate * value - value) * tax_rate END) AS tax_value,\n",
    "            SUM(cumulative_daily_rate * value - CASE WHEN is_pgbl THEN cumulative_daily_rate * value * tax_rate ELSE (cumulative_daily_rate * value - value) * tax_rate END) AS net_value\n",
    "        FROM daily_rates\n",
    "        GROUP BY asset, date, due_date, tax_rate\n",
    "    ), values_range AS(\n",
    "         SELECT \n",
    "            asset,\n",
    "            due_date,\n",
    "            date,\n",
    "            COALESCE (lead(date) OVER (PARTITION BY asset ORDER BY date), due_date) next_date,\n",
    "            tax_rate,\n",
    "            deposit_value,\n",
    "            gross_value,\n",
    "            tax_value,\n",
    "            net_value\n",
    "        FROM grouped\n",
    "    )\n",
    "    SELECT r.asset, r.due_date, d.date, r.tax_rate, r.deposit_value, r.gross_value, r.tax_value, r.net_value\n",
    "    FROM dates d\n",
    "    INNER JOIN values_range r\n",
    "    ON d.date >= r.date and d.date < next_date \n",
    "    ORDER BY d.date DESC\n",
    "    \"\"\"\n",
    ")"
   ]
  },
  {
   "cell_type": "code",
   "execution_count": 12,
   "id": "f66ea09f",
   "metadata": {},
   "outputs": [],
   "source": [
    "cursor.execute(\"\"\"\n",
    "    WITH operations AS (\n",
    "        SELECT\n",
    "            asset,\n",
    "            purchase_date,\n",
    "            due_date,\n",
    "            COALESCE (lead(purchase_date) OVER (PARTITION BY asset ORDER BY purchase_date), due_date) AS next_date,\n",
    "            CASE operation_type WHEN \"buy\" THEN quotas ELSE quotas * -1 END quotas,\n",
    "            CASE operation_type WHEN \"buy\" THEN value ELSE value * -1 END value\n",
    "        FROM fixed_income_operations\n",
    "        WHERE asset like \"%Tesouro Selic%\"\n",
    "    )\n",
    "    SELECT asset, i.date, due_date, i.factor, quotas, value\n",
    "    FROM index_series i\n",
    "    INNER JOIN operations o\n",
    "    ON i.date >= o.purchase_date and i.date < o.next_date \n",
    "    WHERE i.financial_index = \"cdi\"\n",
    "    ORDER BY asset, i.date\n",
    "\"\"\")\n",
    "\n",
    "all_rows = cursor.fetchall()\n",
    "\n",
    "previous_asset = \"\"\n",
    "quota_balance = 0\n",
    "balance = 0\n",
    "compound_values = []\n",
    "previous_purchase_value = 0\n",
    "\n",
    "for (asset, date, due_date, factor, quota, value) in all_rows:\n",
    "    if asset != previous_asset:\n",
    "        previous_asset = asset\n",
    "        quota_balance = quota\n",
    "        balance = value\n",
    "        previous_purchase_value = value\n",
    "    else:\n",
    "        if previous_purchase_value != value:\n",
    "            balance = balance + value\n",
    "            previous_purchase_value = value\n",
    "            quota_balance += quota\n",
    "\n",
    "        if quota_balance > 0:\n",
    "            balance = balance * factor\n",
    "        else:\n",
    "            current_value = 0\n",
    "             \n",
    "    if (balance > 0):\n",
    "        compound_values.append((previous_asset, due_date, date, 0.0, previous_purchase_value, balance, 0, balance))"
   ]
  },
  {
   "cell_type": "code",
   "execution_count": 13,
   "id": "1067b494",
   "metadata": {},
   "outputs": [],
   "source": [
    "cursor.executemany(\n",
    "    \"\"\"\n",
    "    INSERT INTO fixed_income_daily_balance(asset, due_date, date, tax_rate, deposit_value, gross_value, tax_value, net_value)\n",
    "    VALUES(%s, %s, %s, %s, %s, %s, %s, %s)\n",
    "    \"\"\",\n",
    "    compound_values\n",
    ")"
   ]
  },
  {
   "cell_type": "markdown",
   "id": "fd2c6db8",
   "metadata": {},
   "source": [
    "### Insert fgts_daily_balance"
   ]
  },
  {
   "cell_type": "code",
   "execution_count": 14,
   "id": "d3294b66",
   "metadata": {},
   "outputs": [],
   "source": [
    "cursor.execute(\"DELETE FROM fgts_daily_balance\")"
   ]
  },
  {
   "cell_type": "code",
   "execution_count": 15,
   "id": "0f6e0463",
   "metadata": {},
   "outputs": [],
   "source": [
    "cursor.execute(\"\"\"\n",
    "    INSERT INTO fgts_daily_balance\n",
    "    WITH fgts_by_company AS(\n",
    "        SELECT date, company, max(balance) as balance\n",
    "        FROM fgts_operations    \n",
    "        GROUP BY date, company\n",
    "    ), fgts_by_date AS (\n",
    "        SELECT date, sum(balance) as balance, count(*) as companies\n",
    "        FROM fgts_by_company    \n",
    "        GROUP BY date\n",
    "        HAVING count(*) > 1\n",
    "    ), fgts_range AS (\n",
    "        SELECT date, COALESCE(LEAD(date) OVER (ORDER BY date), \"2099-01-01\") as next_date, balance\n",
    "        FROM fgts_by_date \n",
    "    )\n",
    "    SELECT d.date, f.balance\n",
    "    FROM dates d\n",
    "    INNER JOIN fgts_range f\n",
    "    ON d.date >= f.date and d.date < f.next_date\n",
    "\n",
    "\"\"\")"
   ]
  },
  {
   "cell_type": "code",
   "execution_count": 16,
   "id": "edd6069d",
   "metadata": {},
   "outputs": [],
   "source": [
    "cursor.execute(\"DELETE FROM daily_balance\")"
   ]
  },
  {
   "cell_type": "code",
   "execution_count": 17,
   "id": "23024b24",
   "metadata": {},
   "outputs": [],
   "source": [
    "cursor.execute(\"\"\"\n",
    "    INSERT INTO daily_balance\n",
    "    WITH daily_balances_cte AS\n",
    "    (\n",
    "        SELECT\n",
    "            ticker,\n",
    "            date,\n",
    "            value,\n",
    "            'equity' as type\n",
    "        FROM variable_income_daily_balance\n",
    "        WHERE date <= (SELECT max(date) FROM fixed_income_daily_balance)\n",
    "        UNION\n",
    "        SELECT\n",
    "            asset as ticker,\n",
    "            date,\n",
    "            net_value as value,\n",
    "            'fixed_income' as type\n",
    "        FROM fixed_income_daily_balance\n",
    "        WHERE date <= (SELECT max(date) FROM variable_income_daily_balance)\n",
    "        UNION\n",
    "        SELECT \"FGTS\", date, balance, \"fixed_income\"\n",
    "        FROM fgts_daily_balance\n",
    "        WHERE date <= (SELECT max(date) FROM fixed_income_daily_balance)\n",
    "        AND date <= (SELECT max(date) FROM variable_income_daily_balance)\n",
    "    )\n",
    "    SELECT ticker, date, value, type\n",
    "    FROM daily_balances_cte\n",
    "\"\"\")"
   ]
  },
  {
   "cell_type": "code",
   "execution_count": 18,
   "id": "12fc7efe",
   "metadata": {},
   "outputs": [],
   "source": [
    "conn.commit()"
   ]
  },
  {
   "cell_type": "code",
   "execution_count": 19,
   "id": "10199751",
   "metadata": {},
   "outputs": [],
   "source": [
    "conn.close()"
   ]
  },
  {
   "cell_type": "code",
   "execution_count": null,
   "id": "b455231a",
   "metadata": {},
   "outputs": [],
   "source": []
  }
 ],
 "metadata": {
  "kernelspec": {
   "display_name": "Python 3 (ipykernel)",
   "language": "python",
   "name": "python3"
  },
  "language_info": {
   "codemirror_mode": {
    "name": "ipython",
    "version": 3
   },
   "file_extension": ".py",
   "mimetype": "text/x-python",
   "name": "python",
   "nbconvert_exporter": "python",
   "pygments_lexer": "ipython3",
   "version": "3.11.3"
  }
 },
 "nbformat": 4,
 "nbformat_minor": 5
}
