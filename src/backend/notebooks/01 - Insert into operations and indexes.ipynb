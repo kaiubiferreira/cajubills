{
 "cells": [
  {
   "cell_type": "code",
   "execution_count": 59,
   "id": "b8b15dbf-4937-4cb3-885e-c23016ef8323",
   "metadata": {},
   "outputs": [],
   "source": [
    "import sys\n",
    "import os\n",
    "sys.path.append(os.path.abspath(os.path.join('..')))\n",
    "from sheets import *"
   ]
  },
  {
   "cell_type": "code",
   "execution_count": 60,
   "id": "aa5dd4ef",
   "metadata": {},
   "outputs": [],
   "source": [
    "import mysql.connector"
   ]
  },
  {
   "cell_type": "code",
   "execution_count": 61,
   "id": "31e9a435",
   "metadata": {},
   "outputs": [],
   "source": [
    "fixed_income = get_fixed_income()"
   ]
  },
  {
   "cell_type": "code",
   "execution_count": 62,
   "id": "c44314aa",
   "metadata": {},
   "outputs": [],
   "source": [
    "variable_income = get_stock()"
   ]
  },
  {
   "cell_type": "code",
   "execution_count": 63,
   "id": "b001405d",
   "metadata": {},
   "outputs": [],
   "source": [
    "fgts = get_fgts()"
   ]
  },
  {
   "cell_type": "code",
   "execution_count": 64,
   "id": "917d933c",
   "metadata": {},
   "outputs": [],
   "source": [
    "cdi = get_cdi()"
   ]
  },
  {
   "cell_type": "code",
   "execution_count": 65,
   "id": "359fe311",
   "metadata": {},
   "outputs": [],
   "source": [
    "ipca = get_ipca()"
   ]
  },
  {
   "cell_type": "code",
   "execution_count": 66,
   "id": "bfb8e678-92fb-4fda-b334-cf6294185cf7",
   "metadata": {},
   "outputs": [],
   "source": [
    "target = get_target()"
   ]
  },
  {
   "cell_type": "code",
   "execution_count": 67,
   "id": "995aadee",
   "metadata": {},
   "outputs": [],
   "source": [
    "host = \"finance.cvm2aaxkmu43.us-east-2.rds.amazonaws.com\"\n",
    "user = \"admin\"\n",
    "password = \"Nk7f4mJr6?A\"\n",
    "database = \"finance\"\n",
    "\n",
    "conn = mysql.connector.connect(\n",
    "    host=host,\n",
    "    user=user,\n",
    "    password=password,\n",
    "    database=database\n",
    ")\n",
    "\n",
    "cursor = conn.cursor()"
   ]
  },
  {
   "cell_type": "code",
   "execution_count": 68,
   "id": "28d5f399",
   "metadata": {},
   "outputs": [],
   "source": [
    "cursor.execute(\"DELETE FROM variable_income_operations\")"
   ]
  },
  {
   "cell_type": "code",
   "execution_count": 69,
   "id": "6c489620",
   "metadata": {},
   "outputs": [],
   "source": [
    "cursor.executemany(\n",
    "    \"\"\"\n",
    "    INSERT IGNORE INTO variable_income_operations(ticker, operation_type, operation_date, amount, price, currency)\n",
    "    VALUES (%s, %s, %s, %s, %s, %s)\n",
    "    \"\"\",\n",
    "    variable_income\n",
    ")"
   ]
  },
  {
   "cell_type": "code",
   "execution_count": 70,
   "id": "7c2f032c",
   "metadata": {},
   "outputs": [],
   "source": [
    "cursor.executemany(\n",
    "    \"\"\"\n",
    "    INSERT IGNORE INTO index_series(financial_index, date, factor)\n",
    "    VALUES (%s, %s, %s)\n",
    "    \"\"\",\n",
    "    cdi\n",
    ")"
   ]
  },
  {
   "cell_type": "code",
   "execution_count": 71,
   "id": "466f25ab",
   "metadata": {},
   "outputs": [],
   "source": [
    "cursor.executemany(\n",
    "    \"\"\"\n",
    "    INSERT IGNORE INTO index_series(financial_index, date, factor)\n",
    "    VALUES (%s, %s, %s)\n",
    "    \"\"\",\n",
    "    ipca\n",
    ")"
   ]
  },
  {
   "cell_type": "code",
   "execution_count": 72,
   "id": "6ec4738c",
   "metadata": {},
   "outputs": [],
   "source": [
    "cursor.execute(\"DELETE FROM fixed_income_operations\")"
   ]
  },
  {
   "cell_type": "code",
   "execution_count": 73,
   "id": "e209cbf4",
   "metadata": {},
   "outputs": [],
   "source": [
    "cursor.executemany(\n",
    "    \"\"\"\n",
    "    INSERT IGNORE INTO fixed_income_operations (asset, operation_type, quotas, purchase_date, due_date, financial_index, value, pre_rate, post_rate, tax_rate, is_pgbl)\n",
    "    VALUES(%s, %s, %s, %s, %s, %s, %s, %s, %s, %s, %s)\n",
    "    \"\"\",\n",
    "    fixed_income\n",
    ")"
   ]
  },
  {
   "cell_type": "code",
   "execution_count": 74,
   "id": "1354d107",
   "metadata": {},
   "outputs": [],
   "source": [
    "cursor.execute(\"DELETE FROM fgts_operations\")"
   ]
  },
  {
   "cell_type": "code",
   "execution_count": 75,
   "id": "3c76fbd5",
   "metadata": {},
   "outputs": [],
   "source": [
    "cursor.executemany(\n",
    "    \"\"\"\n",
    "    INSERT IGNORE INTO fgts_operations (date, company, operation, value, balance)\n",
    "    VALUES(%s, %s, %s, %s, %s)\n",
    "    \"\"\",\n",
    "    fgts\n",
    ")"
   ]
  },
  {
   "cell_type": "code",
   "execution_count": 76,
   "id": "3acbbeb4-beea-4792-b100-e19adcb16137",
   "metadata": {},
   "outputs": [],
   "source": [
    "cursor.execute(\"DELETE FROM target_percentage\")"
   ]
  },
  {
   "cell_type": "code",
   "execution_count": 77,
   "id": "eba52b6b-93c4-4092-891e-a8cf2a2b9b0c",
   "metadata": {},
   "outputs": [],
   "source": [
    "cursor.executemany(\n",
    "    \"\"\"\n",
    "    INSERT IGNORE INTO target_percentage (name, percentage)\n",
    "    VALUES(%s, %s)\n",
    "    \"\"\",\n",
    "    target\n",
    ")"
   ]
  },
  {
   "cell_type": "code",
   "execution_count": 78,
   "id": "ac6fdec0",
   "metadata": {},
   "outputs": [
    {
     "name": "stdout",
     "output_type": "stream",
     "text": [
      "Upserted data successfully.\n"
     ]
    }
   ],
   "source": [
    "conn.commit()\n",
    "print(\"Upserted data successfully.\")"
   ]
  },
  {
   "cell_type": "code",
   "execution_count": 79,
   "id": "ae1a718a",
   "metadata": {},
   "outputs": [],
   "source": [
    "conn.close()"
   ]
  },
  {
   "cell_type": "code",
   "execution_count": null,
   "id": "1dfb862e-8ed2-43f3-82b0-f42d9b9c1fab",
   "metadata": {},
   "outputs": [],
   "source": []
  }
 ],
 "metadata": {
  "kernelspec": {
   "display_name": "Python 3 (ipykernel)",
   "language": "python",
   "name": "python3"
  },
  "language_info": {
   "codemirror_mode": {
    "name": "ipython",
    "version": 3
   },
   "file_extension": ".py",
   "mimetype": "text/x-python",
   "name": "python",
   "nbconvert_exporter": "python",
   "pygments_lexer": "ipython3",
   "version": "3.9.21"
  }
 },
 "nbformat": 4,
 "nbformat_minor": 5
}
