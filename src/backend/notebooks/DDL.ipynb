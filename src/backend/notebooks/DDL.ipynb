{
 "cells": [
  {
   "cell_type": "code",
   "execution_count": null,
   "id": "ff196a7e",
   "metadata": {},
   "outputs": [],
   "source": [
    "use etl;\n",
    "\n",
    "CREATE TABLE asset_price (\n",
    "  ticker varchar(50) NOT NULL,\n",
    "  quote_date date NOT NULL,\n",
    "  open_price money,\n",
    "  close_price money,\n",
    "  CONSTRAINT pk_asset_price PRIMARY KEY (ticker,quote_date)\n",
    ");\n",
    "\n",
    "CREATE TABLE dates (\n",
    "  date date NOT NULL,\n",
    "  PRIMARY KEY (date)\n",
    ");\n",
    "\n",
    "CREATE TABLE fixed_income_operations (\n",
    "  asset_id int NOT NULL IDENTITY(1,1),\n",
    "  asset varchar(50),\n",
    "  purchase_date date,\n",
    "  due_date date,\n",
    "  financial_index varchar(50),\n",
    "  value float,\n",
    "  pre_rate float,\n",
    "  post_rate float,\n",
    "  PRIMARY KEY (asset_id),\n",
    "  CONSTRAINT UQ_Asset_PurchaseDate UNIQUE (asset, purchase_date)\n",
    ");\n",
    "\n",
    "CREATE TABLE variable_income_operations (\n",
    "  purchase_id int NOT NULL IDENTITY(1,1),\n",
    "  ticker varchar(50),\n",
    "  operation_type varchar(10),\n",
    "  operation_date date,\n",
    "  amount float,\n",
    "  price float,\n",
    "  currency varchar(50),\n",
    "  PRIMARY KEY (purchase_id),\n",
    "  CONSTRAINT UQ_Ticker_OperationDate UNIQUE (ticker, operation_date)\n",
    ")\n"
   ]
  }
 ],
 "metadata": {
  "kernelspec": {
   "display_name": "Python 3 (ipykernel)",
   "language": "python",
   "name": "python3"
  },
  "language_info": {
   "codemirror_mode": {
    "name": "ipython",
    "version": 3
   },
   "file_extension": ".py",
   "mimetype": "text/x-python",
   "name": "python",
   "nbconvert_exporter": "python",
   "pygments_lexer": "ipython3",
   "version": "3.11.3"
  }
 },
 "nbformat": 4,
 "nbformat_minor": 5
}
